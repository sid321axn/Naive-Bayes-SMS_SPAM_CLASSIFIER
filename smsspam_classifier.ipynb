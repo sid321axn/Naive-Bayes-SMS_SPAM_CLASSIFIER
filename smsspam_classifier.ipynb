{
  "cells": [
    {
      "metadata": {
        "_uuid": "8f2839f25d086af736a60e9eeb907d3b93b6e0e5",
        "_cell_guid": "b1076dfc-b9ad-4769-8c92-a6c4dae69d19",
        "trusted": true
      },
      "cell_type": "code",
      "source": "# This Python 3 environment comes with many helpful analytics libraries installed\n# It is defined by the kaggle/python docker image: https://github.com/kaggle/docker-python\n# For example, here's several helpful packages to load in \n\nimport numpy as np # linear algebra\nimport pandas as pd # data processing, CSV file I/O (e.g. pd.read_csv)\nimport nltk\n# Input data files are available in the \"../input/\" directory.\n# For example, running this (by clicking run or pressing Shift+Enter) will list the files in the input directory\n\nimport os\nprint(os.listdir(\"../input\"))\n\n# Any results you write to the current directory are saved as output.",
      "execution_count": null,
      "outputs": []
    },
    {
      "metadata": {
        "_cell_guid": "79c7e3d0-c299-4dcb-8224-4455121ee9b0",
        "collapsed": true,
        "_uuid": "d629ff2d2480ee46fbb7e2d37f6b5fab8052498a",
        "trusted": false
      },
      "cell_type": "markdown",
      "source": "**Checking the Length of SMS**"
    },
    {
      "metadata": {
        "trusted": true,
        "_uuid": "4bb2b45f846f75fae48ea7e06f9abe43e3518f6e"
      },
      "cell_type": "code",
      "source": "import pandas\ndf_sms = pd.read_csv('../input/spam.csv',encoding='latin-1')\ndf_sms.head()",
      "execution_count": null,
      "outputs": []
    },
    {
      "metadata": {
        "_uuid": "6c2e2e11a3c271c3dc1fb552cd0c5a5d4ad6eea8"
      },
      "cell_type": "markdown",
      "source": "**Dropping the unwanted columns Unnamed:2, Unnamed: 3 and Unnamed:4**"
    },
    {
      "metadata": {
        "trusted": true,
        "_uuid": "811571e7971ea7f8322f1737662e5db20b74bfdb"
      },
      "cell_type": "code",
      "source": "df_sms = df_sms.drop([\"Unnamed: 2\", \"Unnamed: 3\", \"Unnamed: 4\"], axis=1)\ndf_sms = df_sms.rename(columns={\"v1\":\"label\", \"v2\":\"sms\"})",
      "execution_count": null,
      "outputs": []
    },
    {
      "metadata": {
        "trusted": true,
        "_uuid": "788dc2bd82ea04ca65caf578aee2d6e4a36071eb"
      },
      "cell_type": "code",
      "source": "df_sms.head()",
      "execution_count": null,
      "outputs": []
    },
    {
      "metadata": {
        "trusted": true,
        "_uuid": "2c631bd0c8de40899bcb7781e73a39cfba1548ec"
      },
      "cell_type": "code",
      "source": "#Checking the maximum length of SMS\nprint (len(df_sms))",
      "execution_count": null,
      "outputs": []
    },
    {
      "metadata": {
        "trusted": true,
        "_uuid": "107c0fe13d78fab5a4f9602e3f430f24c74ad158"
      },
      "cell_type": "code",
      "source": "df_sms.tail()",
      "execution_count": null,
      "outputs": []
    },
    {
      "metadata": {
        "trusted": true,
        "_uuid": "9ce3b9b6d760ac0c081cd1673c38f55c09827adb"
      },
      "cell_type": "code",
      "source": "#Number of observations in each label spam and ham\ndf_sms.label.value_counts()",
      "execution_count": null,
      "outputs": []
    },
    {
      "metadata": {
        "trusted": true,
        "_uuid": "2f020baef301472ba7280ff152916cf36360a38d"
      },
      "cell_type": "code",
      "source": "df_sms.describe()",
      "execution_count": null,
      "outputs": []
    },
    {
      "metadata": {
        "trusted": true,
        "_uuid": "0e64fe53089b02124da0f41296a7059ad499ce16"
      },
      "cell_type": "code",
      "source": "df_sms['length'] = df_sms['sms'].apply(len)\ndf_sms.head()",
      "execution_count": null,
      "outputs": []
    },
    {
      "metadata": {
        "trusted": true,
        "_uuid": "c0b173b7b7a128f29067e94091a1f24640bfc4ef"
      },
      "cell_type": "code",
      "source": "import matplotlib.pyplot as plt\nimport seaborn as sns\n\n%matplotlib inline\ndf_sms['length'].plot(bins=50, kind='hist')",
      "execution_count": null,
      "outputs": []
    },
    {
      "metadata": {
        "trusted": true,
        "_uuid": "1c2a9fc260cef3996ca2515e1946e7413c685bd3"
      },
      "cell_type": "code",
      "source": "df_sms.hist(column='length', by='label', bins=50,figsize=(10,4))",
      "execution_count": null,
      "outputs": []
    },
    {
      "metadata": {
        "trusted": true,
        "_uuid": "b187b7705bd949f2ae80f825657adb43b3bb57da"
      },
      "cell_type": "code",
      "source": "df_sms.loc[:,'label'] = df_sms.label.map({'ham':0, 'spam':1})\nprint(df_sms.shape)\ndf_sms.head()",
      "execution_count": null,
      "outputs": []
    },
    {
      "metadata": {
        "_uuid": "233831c7ecdeb8311cc2c5eaf1fb92098a8b4081"
      },
      "cell_type": "markdown",
      "source": "**Bag of Words Approach**"
    },
    {
      "metadata": {
        "_uuid": "38f6a4ac426e4aae919a88080b3e06c691f95b2b"
      },
      "cell_type": "markdown",
      "source": "\nWhat we have here in our data set is a large collection of text data (5,572 rows of data). Most ML algorithms rely on numerical data to be fed into them as input, and email/sms messages are usually text heavy.\nWe need a way to represent text data for machine learning algorithm and the bag-of-words model helps us to achieve that task.\nIt is a way of extracting features from the text for use in machine learning algorithms.\nIn this approach, we use the tokenized words for each observation and find out the frequency of each token.\nUsing a process which we will go through now, we can convert a collection of documents to a matrix, with each document being a row and each word(token) being the column, and the corresponding (row,column) values being the frequency of occurrence of each word or token in that document.\n\nFor example:\n\nLets say we have 4 documents as follows:\n\n**['Hello, how are you!',\n'Win money, win from home.',\n'Call me now',\n'Hello, Call you tomorrow?']**\n\nOur objective here is to convert this set of text to a frequency distribution matrix, as follows:\n<img src=\"https://image.ibb.co/casG7U/countvectorizer.png\" alt=\"table\">"
    },
    {
      "metadata": {
        "_uuid": "e7d98fe16bb796f82419fa591605f457b0d52836"
      },
      "cell_type": "markdown",
      "source": "Here as we can see, the documents are numbered in the rows, and each word is a column name, with the corresponding value being the frequency of that word in the document.\n\nLets break this down and see how we can do this conversion using a small set of documents.\n\nTo handle this, we will be using sklearns count vectorizer method which does the following:\n\n1.  It tokenizes the string(separates the string into individual words) and gives an integer ID to each token.\n2. It counts the occurrence of each of those tokens."
    },
    {
      "metadata": {
        "_uuid": "1b1160ede91a8705d6f2aa30db6a198493f29661"
      },
      "cell_type": "markdown",
      "source": "**Implementation of Bag of Words Approach**"
    },
    {
      "metadata": {
        "_uuid": "c801dcc3d64d88c1336de3b9aad1a3a802f711f1"
      },
      "cell_type": "markdown",
      "source": "Step 1: Convert all strings to their lower case form."
    },
    {
      "metadata": {
        "trusted": true,
        "_uuid": "74535171bb8c56beef46d910fc322c8c6f8879ef"
      },
      "cell_type": "code",
      "source": "documents = ['Hello, how are you!',\n             'Win money, win from home.',\n             'Call me now.',\n             'Hello, Call hello you tomorrow?']\n\nlower_case_documents = []\nlower_case_documents = [d.lower() for d in documents]\nprint(lower_case_documents)\n",
      "execution_count": null,
      "outputs": []
    },
    {
      "metadata": {
        "_uuid": "0c7114eeac1932122a01943d9fcdd52f13e86e80"
      },
      "cell_type": "markdown",
      "source": "Step 2: Removing all punctuations"
    },
    {
      "metadata": {
        "trusted": true,
        "_uuid": "0385f268056be9d84613fbc3a492d8b4695480bf"
      },
      "cell_type": "code",
      "source": "sans_punctuation_documents = []\nimport string\n\nfor i in lower_case_documents:\n    sans_punctuation_documents.append(i.translate(str.maketrans(\"\",\"\", string.punctuation)))\n    \nsans_punctuation_documents",
      "execution_count": null,
      "outputs": []
    },
    {
      "metadata": {
        "_uuid": "a1a709cf9e09aa2ea1e67009ad19aaba8475fa6f"
      },
      "cell_type": "markdown",
      "source": "Step 3: Tokenization"
    },
    {
      "metadata": {
        "trusted": true,
        "_uuid": "ef412ffa525e15273eaace2aae4e374a8933091c"
      },
      "cell_type": "code",
      "source": "preprocessed_documents = [[w for w in d.split()] for d in sans_punctuation_documents]\npreprocessed_documents",
      "execution_count": null,
      "outputs": []
    },
    {
      "metadata": {
        "_uuid": "95630beff35cb61b5fd1744b91ca37e7f6dd1d00"
      },
      "cell_type": "markdown",
      "source": "Step 4: Count frequencies"
    },
    {
      "metadata": {
        "trusted": true,
        "_uuid": "bdcd4677b6634fbe7f75c47262903efdb38100d1"
      },
      "cell_type": "code",
      "source": "frequency_list = []\nimport pprint\nfrom collections import Counter\n\nfrequency_list = [Counter(d) for d in preprocessed_documents]\npprint.pprint(frequency_list)",
      "execution_count": null,
      "outputs": []
    },
    {
      "metadata": {
        "_uuid": "cc97056c261ef100eb715301ae09a068530791d9"
      },
      "cell_type": "markdown",
      "source": "**Implementing Bag of Words in scikit-learn**"
    },
    {
      "metadata": {
        "_uuid": "502cd98468dac23ba325d4e75fd997f730ce22a0"
      },
      "cell_type": "markdown",
      "source": "'''\nHere we will look to create a frequency matrix on a smaller document set to make sure we understand how the \ndocument-term matrix generation happens. We have created a sample document set 'documents'.\n'''\ndocuments = ['Hello, how are you!',\n                'Win money, win from home.',\n                'Call me now.',\n                'Hello, Call hello you tomorrow?']"
    },
    {
      "metadata": {
        "trusted": true,
        "_uuid": "7ca6a8661c2d14ce311a263c8f5b599f099bcd92"
      },
      "cell_type": "code",
      "source": "from sklearn.feature_extraction.text import CountVectorizer\ncount_vector = CountVectorizer()",
      "execution_count": null,
      "outputs": []
    },
    {
      "metadata": {
        "_uuid": "ea63b5f315ff995b52de58a8805bbe10af9c17d6"
      },
      "cell_type": "markdown",
      "source": "**Data preprocessing with CountVectorizer()**\n\nIn above step, we implemented a version of the CountVectorizer() method from scratch that entailed cleaning our data first. This cleaning involved converting all of our data to lower case and removing all punctuation marks. CountVectorizer() has certain parameters which take care of these steps for us. They are:\n\nlowercase = True\n\nThe lowercase parameter has a default value of True which converts all of our text to its lower case form.\n\ntoken_pattern = (?u)\\\\b\\\\w\\\\w+\\\\b\n\nThe token_pattern parameter has a default regular expression value of (?u)\\\\b\\\\w\\\\w+\\\\b which ignores all punctuation marks and treats them as delimiters, while accepting alphanumeric strings of length greater than or equal to 2, as individual tokens or words.\n\nstop_words\n\nThe stop_words parameter, if set to english will remove all words from our document set that match a list of English stop words which is defined in scikit-learn. Considering the size of our dataset and the fact that we are dealing with SMS messages and not larger text sources like e-mail, we will not be setting this parameter value."
    },
    {
      "metadata": {
        "trusted": true,
        "_uuid": "89698bc13286e251f007438e5143a185874dec8a"
      },
      "cell_type": "code",
      "source": "count_vector.fit(documents)\ncount_vector.get_feature_names()",
      "execution_count": null,
      "outputs": []
    },
    {
      "metadata": {
        "trusted": true,
        "_uuid": "7bdd5c5b641355b80c84ae24142f5ded3e4054ba"
      },
      "cell_type": "code",
      "source": "doc_array = count_vector.transform(documents).toarray()\ndoc_array",
      "execution_count": null,
      "outputs": []
    },
    {
      "metadata": {
        "trusted": true,
        "_uuid": "770d9a3f5b134e81664eea69eae48a38bb5a03aa"
      },
      "cell_type": "code",
      "source": "frequency_matrix = pd.DataFrame(doc_array, columns = count_vector.get_feature_names())\nfrequency_matrix",
      "execution_count": null,
      "outputs": []
    },
    {
      "metadata": {
        "trusted": true,
        "_uuid": "1b3e28582c81d0995c2aca898972489cd47f7ffa"
      },
      "cell_type": "code",
      "source": "from sklearn.cross_validation import train_test_split\n\nX_train, X_test, y_train, y_test = train_test_split(df_sms['sms'], \n                                                    df_sms['label'],test_size=0.20, \n                                                    random_state=1)",
      "execution_count": null,
      "outputs": []
    },
    {
      "metadata": {
        "trusted": true,
        "_uuid": "d84a48a44851dd6b927e8548e8b1cfcc0e4c0470"
      },
      "cell_type": "code",
      "source": "# Instantiate the CountVectorizer method\ncount_vector = CountVectorizer()\n\n# Fit the training data and then return the matrix\ntraining_data = count_vector.fit_transform(X_train)\n\n# Transform testing data and return the matrix. \ntesting_data = count_vector.transform(X_test)",
      "execution_count": null,
      "outputs": []
    },
    {
      "metadata": {
        "_uuid": "b765e268c1ab97cc5b9cb0dfd0201ed640397e4c"
      },
      "cell_type": "markdown",
      "source": "**Implementation of Naive Bayes Machine Learning Algorithm **\n\nI will use  sklearns **sklearn.naive_bayes** method to make predictions on our dataset.\n\nSpecifically, we will be using the **multinomial Naive Bayes** implementation. This particular classifier is suitable for classification with discrete features (such as in our case, word counts for text classification). It takes in integer word counts as its input. On the other hand **Gaussian Naive Bayes** is better suited for continuous data as it assumes that the input data has a Gaussian(normal) distribution."
    },
    {
      "metadata": {
        "trusted": true,
        "_uuid": "39a499895458b0d9a6f152dfa9a17e279353d0ab"
      },
      "cell_type": "code",
      "source": "from sklearn.naive_bayes import MultinomialNB\nnaive_bayes = MultinomialNB()\nnaive_bayes.fit(training_data,y_train)",
      "execution_count": null,
      "outputs": []
    },
    {
      "metadata": {
        "trusted": true,
        "_uuid": "6db40f3162c1b627bdb030b4ac6104bf3cc70681"
      },
      "cell_type": "code",
      "source": "predictions = naive_bayes.predict(testing_data)",
      "execution_count": null,
      "outputs": []
    },
    {
      "metadata": {
        "_uuid": "b3edec1b6f6f8dd75c0b8ddaeb37a1007537103e"
      },
      "cell_type": "markdown",
      "source": "**Evaluating our model**\n\nNow that we have made predictions on our test set, our next goal is to evaluate how well our model is doing. There are various mechanisms for doing so, but first let's do quick recap of them.\n\n**Accuracy** measures how often the classifier makes the correct prediction. It’s the ratio of the number of correct predictions to the total number of predictions (the number of test data points).\n\n**Precision** tells us what proportion of messages we classified as spam, actually were spam. It is a ratio of true positives(words classified as spam, and which are actually spam) to all positives(all words classified as spam, irrespective of whether that was the correct classification), in other words it is the ratio of\n\n**[True Positives/(True Positives + False Positives)]**\n\n**Recall(sensitivity)** tells us what proportion of messages that actually were spam were classified by us as spam. It is a ratio of true positives(words classified as spam, and which are actually spam) to all the words that were actually spam, in other words it is the ratio of\n\n**[True Positives/(True Positives + False Negatives)]**\n\nFor classification problems that are skewed in their classification distributions like in our case, for example if we had a 100 text messages and only 2 were spam and the rest 98 weren't, accuracy by itself is not a very good metric. We could classify 90 messages as not spam(including the 2 that were spam but we classify them as not spam, hence they would be false negatives) and 10 as spam(all 10 false positives) and still get a reasonably good accuracy score. For such cases, precision and recall come in very handy. These two metrics can be combined to get the F1 score, which is weighted average of the precision and recall scores. This score can range from 0 to 1, with 1 being the best possible F1 score.\n\nWe will be using all 4 metrics to make sure our model does well. For all 4 metrics whose values can range from 0 to 1, having a score as close to 1 as possible is a good indicator of how well our model is doing."
    },
    {
      "metadata": {
        "trusted": true,
        "_uuid": "0bc4167d3ff888530c292ae0ed7a8e924e8caf30"
      },
      "cell_type": "code",
      "source": "from sklearn.metrics import accuracy_score, precision_score, recall_score, f1_score\nprint('Accuracy score: {}'.format(accuracy_score(y_test, predictions)))\nprint('Precision score: {}'.format(precision_score(y_test, predictions)))\nprint('Recall score: {}'.format(recall_score(y_test, predictions)))\nprint('F1 score: {}'.format(f1_score(y_test, predictions)))",
      "execution_count": null,
      "outputs": []
    },
    {
      "metadata": {
        "_uuid": "db41456bf07a7de127c3368b1f0db87c5632d512"
      },
      "cell_type": "markdown",
      "source": "One of the major advantages that **Naive Bayes** has over other classification algorithms is its ability to handle an extremely large number of features. In our case, each word is treated as a feature and there are thousands of different words. Also, it performs well even with the presence of irrelevant features and is relatively unaffected by them.\n\nThe other major advantage it has is its relative simplicity. Naive Bayes' works well right out of the box and tuning it's parameters is rarely ever necessary, except usually in cases where the distribution of the data is known. \n\nIt rarely ever overfits the data.\n\nAnother important advantage is that its model training and prediction times are very fast for the amount of data it can handle. "
    },
    {
      "metadata": {
        "trusted": true,
        "_uuid": "9f9019cfa476a59b9b1233522808d0a3f368faef"
      },
      "cell_type": "code",
      "source": "",
      "execution_count": null,
      "outputs": []
    }
  ],
  "metadata": {
    "kernelspec": {
      "display_name": "Python 3",
      "language": "python",
      "name": "python3"
    },
    "language_info": {
      "name": "python",
      "version": "3.6.6",
      "mimetype": "text/x-python",
      "codemirror_mode": {
        "name": "ipython",
        "version": 3
      },
      "pygments_lexer": "ipython3",
      "nbconvert_exporter": "python",
      "file_extension": ".py"
    }
  },
  "nbformat": 4,
  "nbformat_minor": 1
}